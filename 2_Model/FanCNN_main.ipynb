{
 "cells": [
  {
   "cell_type": "code",
   "execution_count": 1,
   "id": "4a3f2b55-b6b8-4925-b59d-59e5006492ba",
   "metadata": {},
   "outputs": [],
   "source": [
    "import numpy as np\n",
    "import matplotlib.pyplot as plt\n",
    "import glob, os, random, time\n",
    "import tensorflow as tf\n",
    "import tensorflow.keras as keras \n",
    "from tensorflow.keras.preprocessing.image import ImageDataGenerator, load_img, img_to_array, array_to_img\n",
    "from tensorflow.keras.layers import Conv2D, Flatten, MaxPooling2D, Dense, Dropout\n",
    "from tensorflow.keras.models import Sequential\n",
    "from tensorflow.keras.callbacks import EarlyStopping\n",
    "from tensorflow.keras.applications.imagenet_utils import preprocess_input\n",
    "from tensorflow.keras.models import model_from_json\n",
    "from tensorflow.keras.preprocessing import image\n",
    "from tensorflow.keras.optimizers import SGD\n",
    "from sklearn.metrics import roc_auc_score\n",
    "\n",
    "# print(tf.__version__)\n",
    "\n",
    "os.environ[\"CUDA_VISIBLE_DEVICES\"] = \"0,1\""
   ]
  },
  {
   "cell_type": "code",
   "execution_count": 2,
   "id": "e1329a30-aa2d-41bb-b64f-fbeaaf10331d",
   "metadata": {},
   "outputs": [],
   "source": [
    "root_path = '/mnt/Mel/Mel/fan'\n",
    "labels = {0: 'normal', 1: 'abnormal'}"
   ]
  },
  {
   "cell_type": "code",
   "execution_count": 3,
   "id": "16cff7b0-86db-4c61-815f-1488aec73c5e",
   "metadata": {},
   "outputs": [],
   "source": [
    "rate = 0.3\n",
    "batchsize = 64\n",
    "classmode = 'binary'\n",
    "picsize = (1000,400)\n",
    "inputshape = (1000,400,3)\n",
    "\n",
    "# 构造ImageDataGenerator对象\n",
    "train_datagen = ImageDataGenerator(\n",
    "    rescale=1. / 255,                   # 数据缩放，把像素点的值除以255，使之在0到1之间\n",
    "    #shear_range=0.1,                    # 错切变换角度\n",
    "    #zoom_range=0.5,                     # 随机缩放范围\n",
    "    #width_shift_range = 0.5,            # 除以总宽度的值\n",
    "    #height_shift_range = 0.5,           # 除以总高度的值\n",
    "    #horizontal_flip=True,               # 随机水平暗转\n",
    "    #vertical_flip = True,               # 随机垂直翻转\n",
    "    validation_split = rate             # 保留用于验证的图像比例为0.3\n",
    ")\n",
    "\n",
    "# 归一化验证集\n",
    "val_datagen = ImageDataGenerator(\n",
    "    rescale=1. / 255,                  # 数据缩放，把像素点的值除以255，使之在0到1之间\n",
    "    validation_split= rate)              # 保留用于验证的图像比例为0.3"
   ]
  },
  {
   "cell_type": "code",
   "execution_count": 4,
   "id": "ca03d4ad-2ff0-42de-afc4-f63e1d9d7c5b",
   "metadata": {},
   "outputs": [
    {
     "name": "stdout",
     "output_type": "stream",
     "text": [
      "Found 3886 images belonging to 2 classes.\n",
      "Found 1664 images belonging to 2 classes.\n"
     ]
    }
   ],
   "source": [
    "# 对训练集进行数据增强\n",
    "train_generator = train_datagen.flow_from_directory(\n",
    "    root_path+'',              # 目标数据的路径\n",
    "    target_size= picsize,            # 所有的图片将被调整的尺寸\n",
    "    batch_size= batchsize,                     # 每批传入数据的大小\n",
    "    class_mode= classmode,          # 决定返回标签的类型。这里采用 2D one-hot 编码标签\n",
    "    subset='training',                 # 数据子集\n",
    "    seed=None)                            # 可选随机种子\n",
    "\n",
    "# 对测试集进行数据增强\n",
    "val_generator = val_datagen.flow_from_directory(\n",
    "    root_path+'',              # 目标数据的路径\n",
    "    target_size= picsize,            # 所有的图片将被调整的尺寸\n",
    "    batch_size=  batchsize,                     # 每批传入数据的大小\n",
    "    class_mode= classmode,          # 决定返回标签的类型。这里采用 2D one-hot 编码标签\n",
    "    subset='validation',               # 数据子集\n",
    "    seed=None)                            # 可选随机种子\n"
   ]
  },
  {
   "cell_type": "code",
   "execution_count": 6,
   "id": "d34865f3-6b47-47d0-af67-3897f690d10e",
   "metadata": {},
   "outputs": [
    {
     "name": "stdout",
     "output_type": "stream",
     "text": [
      "Model: \"sequential_1\"\n",
      "_________________________________________________________________\n",
      "Layer (type)                 Output Shape              Param #   \n",
      "=================================================================\n",
      "conv2d_3 (Conv2D)            (None, 1000, 400, 32)     2432      \n",
      "_________________________________________________________________\n",
      "max_pooling2d_3 (MaxPooling2 (None, 333, 133, 32)      0         \n",
      "_________________________________________________________________\n",
      "dropout_5 (Dropout)          (None, 333, 133, 32)      0         \n",
      "_________________________________________________________________\n",
      "conv2d_4 (Conv2D)            (None, 333, 133, 64)      51264     \n",
      "_________________________________________________________________\n",
      "max_pooling2d_4 (MaxPooling2 (None, 111, 44, 64)       0         \n",
      "_________________________________________________________________\n",
      "dropout_6 (Dropout)          (None, 111, 44, 64)       0         \n",
      "_________________________________________________________________\n",
      "conv2d_5 (Conv2D)            (None, 111, 44, 128)      204928    \n",
      "_________________________________________________________________\n",
      "max_pooling2d_5 (MaxPooling2 (None, 37, 14, 128)       0         \n",
      "_________________________________________________________________\n",
      "dropout_7 (Dropout)          (None, 37, 14, 128)       0         \n",
      "_________________________________________________________________\n",
      "flatten_1 (Flatten)          (None, 66304)             0         \n",
      "_________________________________________________________________\n",
      "dense_4 (Dense)              (None, 512)               33948160  \n",
      "_________________________________________________________________\n",
      "dropout_8 (Dropout)          (None, 512)               0         \n",
      "_________________________________________________________________\n",
      "dense_5 (Dense)              (None, 64)                32832     \n",
      "_________________________________________________________________\n",
      "dropout_9 (Dropout)          (None, 64)                0         \n",
      "_________________________________________________________________\n",
      "dense_6 (Dense)              (None, 8)                 520       \n",
      "_________________________________________________________________\n",
      "dense_7 (Dense)              (None, 1)                 9         \n",
      "=================================================================\n",
      "Total params: 34,240,145\n",
      "Trainable params: 34,240,145\n",
      "Non-trainable params: 0\n",
      "_________________________________________________________________\n"
     ]
    }
   ],
   "source": [
    "### model\n",
    "\n",
    "\n",
    "model = Sequential()\n",
    "# 卷积层\n",
    "# filter=32表示卷积滤波器个数为32\n",
    "# kernel_size=3表示所有空间维度指定相同的值\n",
    "# padding='same'表示padding完尺寸与原来相同\n",
    "# activation='relu'使用relu作为激活函数\n",
    "# input_shape=(300, 300, 3)表示输入图像的尺寸为300x300，且有3个颜色通道\n",
    "\n",
    "#1\n",
    "model.add(Conv2D(filters=32, kernel_size=5, padding='same', activation='relu', input_shape= inputshape))\n",
    "# 池化层\n",
    "# 使用最大池化层，且最大池化的窗口为2\n",
    "model.add(MaxPooling2D(pool_size=3))\n",
    "model.add(Dropout(0.5))\n",
    "#2\n",
    "model.add(Conv2D(filters=64, kernel_size=5, padding='same', activation='relu'))\n",
    "model.add(MaxPooling2D(pool_size=3))\n",
    "model.add(Dropout(0.5))\n",
    "#3\n",
    "model.add(Conv2D(filters=128, kernel_size=5, padding='same', activation='relu'))\n",
    "model.add(MaxPooling2D(pool_size=3))\n",
    "model.add(Dropout(0.5))\n",
    "\n",
    "model.add(Flatten())  # 扁平化参数\n",
    "# 全连接层\n",
    "# 全连接层输出的空间维度为64\n",
    "# 激活函数采用relu\n",
    "model.add(Dense(512, activation='relu'))\n",
    "model.add(Dropout(0.5))\n",
    "model.add(Dense(64, activation='relu'))\n",
    "model.add(Dropout(0.5))\n",
    "model.add(Dense(8, activation='relu'))\n",
    "# 全连接层\n",
    "# 全连接层输出的空间维度为6\n",
    "# 激活函数采用softmax\n",
    "model.add(Dense(1, activation='sigmoid'))\n",
    "# 完成架构搭建后，最后输出模型汇总\n",
    "\n",
    "def auroc(y_true, y_pred):\n",
    "    return tf.py_function(roc_auc_score, (y_true, y_pred), tf.double)\n",
    "\n",
    "model.compile(loss=tf.keras.losses.BinaryCrossentropy(),           # 损失函数使用交叉熵\n",
    "                   optimizer=tf.keras.optimizers.Adam(learning_rate = 0.0001),                     # 设置优化器\n",
    "                   metrics=['accuracy', auroc])                 # 设置评估指标为准确率\n",
    "\n",
    "model.summary()\n"
   ]
  },
  {
   "cell_type": "code",
   "execution_count": 7,
   "id": "10c728c0-bde2-401f-9c07-a44df4cff577",
   "metadata": {},
   "outputs": [
    {
     "name": "stdout",
     "output_type": "stream",
     "text": [
      "1\n"
     ]
    },
    {
     "name": "stderr",
     "output_type": "stream",
     "text": [
      "2022-05-07 02:03:11.053642: I tensorflow/compiler/mlir/mlir_graph_optimization_pass.cc:185] None of the MLIR Optimization Passes are enabled (registered 2)\n"
     ]
    },
    {
     "name": "stdout",
     "output_type": "stream",
     "text": [
      "Epoch 1/50\n"
     ]
    },
    {
     "name": "stderr",
     "output_type": "stream",
     "text": [
      "2022-05-07 02:03:14.641410: I tensorflow/stream_executor/cuda/cuda_dnn.cc:369] Loaded cuDNN version 8101\n"
     ]
    },
    {
     "name": "stdout",
     "output_type": "stream",
     "text": [
      "60/60 [==============================] - 210s 3s/step - loss: 0.6871 - accuracy: 0.6732 - auroc: 0.4832 - val_loss: 0.6805 - val_accuracy: 0.7344 - val_auroc: 0.4253\n",
      "Epoch 2/50\n",
      "60/60 [==============================] - 187s 3s/step - loss: 0.6059 - accuracy: 0.7255 - auroc: 0.5047 - val_loss: 0.6742 - val_accuracy: 0.7344 - val_auroc: 0.4683\n",
      "Epoch 3/50\n",
      "60/60 [==============================] - 179s 3s/step - loss: 0.6093 - accuracy: 0.7299 - auroc: 0.4757 - val_loss: 0.6765 - val_accuracy: 0.7344 - val_auroc: 0.4133\n",
      "Epoch 4/50\n",
      "60/60 [==============================] - 181s 3s/step - loss: 0.6012 - accuracy: 0.7331 - auroc: 0.4951 - val_loss: 0.6719 - val_accuracy: 0.7344 - val_auroc: 0.3050\n",
      "Epoch 5/50\n",
      "60/60 [==============================] - 182s 3s/step - loss: 0.5957 - accuracy: 0.7305 - auroc: 0.5085 - val_loss: 0.6723 - val_accuracy: 0.7344 - val_auroc: 0.3189\n",
      "Epoch 6/50\n",
      "60/60 [==============================] - 180s 3s/step - loss: 0.5959 - accuracy: 0.7302 - auroc: 0.5050 - val_loss: 0.6742 - val_accuracy: 0.7344 - val_auroc: 0.4206\n",
      "Epoch 7/50\n",
      "60/60 [==============================] - 177s 3s/step - loss: 0.5958 - accuracy: 0.7326 - auroc: 0.5040 - val_loss: 0.6722 - val_accuracy: 0.7344 - val_auroc: 0.3669\n",
      "Epoch 8/50\n",
      "60/60 [==============================] - 180s 3s/step - loss: 0.5948 - accuracy: 0.7339 - auroc: 0.5079 - val_loss: 0.6656 - val_accuracy: 0.7344 - val_auroc: 0.4495\n",
      "Epoch 9/50\n",
      "60/60 [==============================] - 180s 3s/step - loss: 0.5951 - accuracy: 0.7313 - auroc: 0.4983 - val_loss: 0.6732 - val_accuracy: 0.7344 - val_auroc: 0.3427\n",
      "Epoch 10/50\n",
      "60/60 [==============================] - 177s 3s/step - loss: 0.5943 - accuracy: 0.7321 - auroc: 0.4970 - val_loss: 0.6729 - val_accuracy: 0.7344 - val_auroc: 0.3163\n",
      "Epoch 11/50\n",
      "60/60 [==============================] - 179s 3s/step - loss: 0.5915 - accuracy: 0.7331 - auroc: 0.5086 - val_loss: 0.6678 - val_accuracy: 0.7344 - val_auroc: 0.3369\n",
      "Epoch 12/50\n",
      "60/60 [==============================] - 206s 3s/step - loss: 0.5843 - accuracy: 0.7352 - auroc: 0.5280 - val_loss: 0.6685 - val_accuracy: 0.7344 - val_auroc: 0.3298\n",
      "Epoch 13/50\n",
      "60/60 [==============================] - 203s 3s/step - loss: 0.5816 - accuracy: 0.7329 - auroc: 0.5415 - val_loss: 0.6709 - val_accuracy: 0.7344 - val_auroc: 0.3167\n",
      "Epoch 14/50\n",
      "60/60 [==============================] - 190s 3s/step - loss: 0.5533 - accuracy: 0.7339 - auroc: 0.6369 - val_loss: 0.6868 - val_accuracy: 0.7344 - val_auroc: 0.2514\n",
      "Epoch 15/50\n",
      "60/60 [==============================] - 184s 3s/step - loss: 0.5182 - accuracy: 0.7323 - auroc: 0.7158 - val_loss: 0.7294 - val_accuracy: 0.7344 - val_auroc: 0.2456\n",
      "Epoch 16/50\n",
      "60/60 [==============================] - 214s 4s/step - loss: 0.4842 - accuracy: 0.7344 - auroc: 0.7731 - val_loss: 0.8049 - val_accuracy: 0.7344 - val_auroc: 0.1841\n",
      "Epoch 17/50\n",
      "31/60 [==============>...............] - ETA: 1:07 - loss: 0.4666 - accuracy: 0.7401 - auroc: 0.8073"
     ]
    },
    {
     "ename": "KeyboardInterrupt",
     "evalue": "",
     "output_type": "error",
     "traceback": [
      "\u001b[0;31m---------------------------------------------------------------------------\u001b[0m",
      "\u001b[0;31mKeyboardInterrupt\u001b[0m                         Traceback (most recent call last)",
      "\u001b[0;32m/tmp/ipykernel_2441/2171647051.py\u001b[0m in \u001b[0;36m<module>\u001b[0;34m\u001b[0m\n\u001b[1;32m      2\u001b[0m \u001b[0mtime_model\u001b[0m \u001b[0;34m=\u001b[0m \u001b[0mtime\u001b[0m\u001b[0;34m.\u001b[0m\u001b[0mtime\u001b[0m\u001b[0;34m(\u001b[0m\u001b[0;34m)\u001b[0m \u001b[0;31m# 记录训练开始时间\u001b[0m\u001b[0;34m\u001b[0m\u001b[0;34m\u001b[0m\u001b[0m\n\u001b[1;32m      3\u001b[0m \u001b[0mprint\u001b[0m\u001b[0;34m(\u001b[0m\u001b[0;36m1\u001b[0m\u001b[0;34m)\u001b[0m\u001b[0;34m\u001b[0m\u001b[0;34m\u001b[0m\u001b[0m\n\u001b[0;32m----> 4\u001b[0;31m history_fit = model.fit(train_generator,                # 增强的数据集\n\u001b[0m\u001b[1;32m      5\u001b[0m                         \u001b[0mepochs\u001b[0m\u001b[0;34m=\u001b[0m\u001b[0;36m50\u001b[0m\u001b[0;34m,\u001b[0m                      \u001b[0;31m# 迭代总轮数，这里设置为50次，你可以在实验是增加epoch次数，提升准确率\u001b[0m\u001b[0;34m\u001b[0m\u001b[0;34m\u001b[0m\u001b[0m\n\u001b[1;32m      6\u001b[0m                         \u001b[0msteps_per_epoch\u001b[0m\u001b[0;34m=\u001b[0m\u001b[0;34m(\u001b[0m\u001b[0;36m3886\u001b[0m\u001b[0;34m//\u001b[0m\u001b[0mbatchsize\u001b[0m\u001b[0;34m)\u001b[0m\u001b[0;34m,\u001b[0m       \u001b[0;31m# generator 产生的总步数（批次样本）\u001b[0m\u001b[0;34m\u001b[0m\u001b[0;34m\u001b[0m\u001b[0m\n",
      "\u001b[0;32m~/miniconda3/envs/myconda/lib/python3.8/site-packages/keras/engine/training.py\u001b[0m in \u001b[0;36mfit\u001b[0;34m(self, x, y, batch_size, epochs, verbose, callbacks, validation_split, validation_data, shuffle, class_weight, sample_weight, initial_epoch, steps_per_epoch, validation_steps, validation_batch_size, validation_freq, max_queue_size, workers, use_multiprocessing)\u001b[0m\n\u001b[1;32m   1182\u001b[0m                 _r=1):\n\u001b[1;32m   1183\u001b[0m               \u001b[0mcallbacks\u001b[0m\u001b[0;34m.\u001b[0m\u001b[0mon_train_batch_begin\u001b[0m\u001b[0;34m(\u001b[0m\u001b[0mstep\u001b[0m\u001b[0;34m)\u001b[0m\u001b[0;34m\u001b[0m\u001b[0;34m\u001b[0m\u001b[0m\n\u001b[0;32m-> 1184\u001b[0;31m               \u001b[0mtmp_logs\u001b[0m \u001b[0;34m=\u001b[0m \u001b[0mself\u001b[0m\u001b[0;34m.\u001b[0m\u001b[0mtrain_function\u001b[0m\u001b[0;34m(\u001b[0m\u001b[0miterator\u001b[0m\u001b[0;34m)\u001b[0m\u001b[0;34m\u001b[0m\u001b[0;34m\u001b[0m\u001b[0m\n\u001b[0m\u001b[1;32m   1185\u001b[0m               \u001b[0;32mif\u001b[0m \u001b[0mdata_handler\u001b[0m\u001b[0;34m.\u001b[0m\u001b[0mshould_sync\u001b[0m\u001b[0;34m:\u001b[0m\u001b[0;34m\u001b[0m\u001b[0;34m\u001b[0m\u001b[0m\n\u001b[1;32m   1186\u001b[0m                 \u001b[0mcontext\u001b[0m\u001b[0;34m.\u001b[0m\u001b[0masync_wait\u001b[0m\u001b[0;34m(\u001b[0m\u001b[0;34m)\u001b[0m\u001b[0;34m\u001b[0m\u001b[0;34m\u001b[0m\u001b[0m\n",
      "\u001b[0;32m~/miniconda3/envs/myconda/lib/python3.8/site-packages/tensorflow/python/eager/def_function.py\u001b[0m in \u001b[0;36m__call__\u001b[0;34m(self, *args, **kwds)\u001b[0m\n\u001b[1;32m    883\u001b[0m \u001b[0;34m\u001b[0m\u001b[0m\n\u001b[1;32m    884\u001b[0m       \u001b[0;32mwith\u001b[0m \u001b[0mOptionalXlaContext\u001b[0m\u001b[0;34m(\u001b[0m\u001b[0mself\u001b[0m\u001b[0;34m.\u001b[0m\u001b[0m_jit_compile\u001b[0m\u001b[0;34m)\u001b[0m\u001b[0;34m:\u001b[0m\u001b[0;34m\u001b[0m\u001b[0;34m\u001b[0m\u001b[0m\n\u001b[0;32m--> 885\u001b[0;31m         \u001b[0mresult\u001b[0m \u001b[0;34m=\u001b[0m \u001b[0mself\u001b[0m\u001b[0;34m.\u001b[0m\u001b[0m_call\u001b[0m\u001b[0;34m(\u001b[0m\u001b[0;34m*\u001b[0m\u001b[0margs\u001b[0m\u001b[0;34m,\u001b[0m \u001b[0;34m**\u001b[0m\u001b[0mkwds\u001b[0m\u001b[0;34m)\u001b[0m\u001b[0;34m\u001b[0m\u001b[0;34m\u001b[0m\u001b[0m\n\u001b[0m\u001b[1;32m    886\u001b[0m \u001b[0;34m\u001b[0m\u001b[0m\n\u001b[1;32m    887\u001b[0m       \u001b[0mnew_tracing_count\u001b[0m \u001b[0;34m=\u001b[0m \u001b[0mself\u001b[0m\u001b[0;34m.\u001b[0m\u001b[0mexperimental_get_tracing_count\u001b[0m\u001b[0;34m(\u001b[0m\u001b[0;34m)\u001b[0m\u001b[0;34m\u001b[0m\u001b[0;34m\u001b[0m\u001b[0m\n",
      "\u001b[0;32m~/miniconda3/envs/myconda/lib/python3.8/site-packages/tensorflow/python/eager/def_function.py\u001b[0m in \u001b[0;36m_call\u001b[0;34m(self, *args, **kwds)\u001b[0m\n\u001b[1;32m    915\u001b[0m       \u001b[0;31m# In this case we have created variables on the first call, so we run the\u001b[0m\u001b[0;34m\u001b[0m\u001b[0;34m\u001b[0m\u001b[0;34m\u001b[0m\u001b[0m\n\u001b[1;32m    916\u001b[0m       \u001b[0;31m# defunned version which is guaranteed to never create variables.\u001b[0m\u001b[0;34m\u001b[0m\u001b[0;34m\u001b[0m\u001b[0;34m\u001b[0m\u001b[0m\n\u001b[0;32m--> 917\u001b[0;31m       \u001b[0;32mreturn\u001b[0m \u001b[0mself\u001b[0m\u001b[0;34m.\u001b[0m\u001b[0m_stateless_fn\u001b[0m\u001b[0;34m(\u001b[0m\u001b[0;34m*\u001b[0m\u001b[0margs\u001b[0m\u001b[0;34m,\u001b[0m \u001b[0;34m**\u001b[0m\u001b[0mkwds\u001b[0m\u001b[0;34m)\u001b[0m  \u001b[0;31m# pylint: disable=not-callable\u001b[0m\u001b[0;34m\u001b[0m\u001b[0;34m\u001b[0m\u001b[0m\n\u001b[0m\u001b[1;32m    918\u001b[0m     \u001b[0;32melif\u001b[0m \u001b[0mself\u001b[0m\u001b[0;34m.\u001b[0m\u001b[0m_stateful_fn\u001b[0m \u001b[0;32mis\u001b[0m \u001b[0;32mnot\u001b[0m \u001b[0;32mNone\u001b[0m\u001b[0;34m:\u001b[0m\u001b[0;34m\u001b[0m\u001b[0;34m\u001b[0m\u001b[0m\n\u001b[1;32m    919\u001b[0m       \u001b[0;31m# Release the lock early so that multiple threads can perform the call\u001b[0m\u001b[0;34m\u001b[0m\u001b[0;34m\u001b[0m\u001b[0;34m\u001b[0m\u001b[0m\n",
      "\u001b[0;32m~/miniconda3/envs/myconda/lib/python3.8/site-packages/tensorflow/python/eager/function.py\u001b[0m in \u001b[0;36m__call__\u001b[0;34m(self, *args, **kwargs)\u001b[0m\n\u001b[1;32m   3037\u001b[0m       (graph_function,\n\u001b[1;32m   3038\u001b[0m        filtered_flat_args) = self._maybe_define_function(args, kwargs)\n\u001b[0;32m-> 3039\u001b[0;31m     return graph_function._call_flat(\n\u001b[0m\u001b[1;32m   3040\u001b[0m         filtered_flat_args, captured_inputs=graph_function.captured_inputs)  # pylint: disable=protected-access\n\u001b[1;32m   3041\u001b[0m \u001b[0;34m\u001b[0m\u001b[0m\n",
      "\u001b[0;32m~/miniconda3/envs/myconda/lib/python3.8/site-packages/tensorflow/python/eager/function.py\u001b[0m in \u001b[0;36m_call_flat\u001b[0;34m(self, args, captured_inputs, cancellation_manager)\u001b[0m\n\u001b[1;32m   1961\u001b[0m         and executing_eagerly):\n\u001b[1;32m   1962\u001b[0m       \u001b[0;31m# No tape is watching; skip to running the function.\u001b[0m\u001b[0;34m\u001b[0m\u001b[0;34m\u001b[0m\u001b[0;34m\u001b[0m\u001b[0m\n\u001b[0;32m-> 1963\u001b[0;31m       return self._build_call_outputs(self._inference_function.call(\n\u001b[0m\u001b[1;32m   1964\u001b[0m           ctx, args, cancellation_manager=cancellation_manager))\n\u001b[1;32m   1965\u001b[0m     forward_backward = self._select_forward_and_backward_functions(\n",
      "\u001b[0;32m~/miniconda3/envs/myconda/lib/python3.8/site-packages/tensorflow/python/eager/function.py\u001b[0m in \u001b[0;36mcall\u001b[0;34m(self, ctx, args, cancellation_manager)\u001b[0m\n\u001b[1;32m    589\u001b[0m       \u001b[0;32mwith\u001b[0m \u001b[0m_InterpolateFunctionError\u001b[0m\u001b[0;34m(\u001b[0m\u001b[0mself\u001b[0m\u001b[0;34m)\u001b[0m\u001b[0;34m:\u001b[0m\u001b[0;34m\u001b[0m\u001b[0;34m\u001b[0m\u001b[0m\n\u001b[1;32m    590\u001b[0m         \u001b[0;32mif\u001b[0m \u001b[0mcancellation_manager\u001b[0m \u001b[0;32mis\u001b[0m \u001b[0;32mNone\u001b[0m\u001b[0;34m:\u001b[0m\u001b[0;34m\u001b[0m\u001b[0;34m\u001b[0m\u001b[0m\n\u001b[0;32m--> 591\u001b[0;31m           outputs = execute.execute(\n\u001b[0m\u001b[1;32m    592\u001b[0m               \u001b[0mstr\u001b[0m\u001b[0;34m(\u001b[0m\u001b[0mself\u001b[0m\u001b[0;34m.\u001b[0m\u001b[0msignature\u001b[0m\u001b[0;34m.\u001b[0m\u001b[0mname\u001b[0m\u001b[0;34m)\u001b[0m\u001b[0;34m,\u001b[0m\u001b[0;34m\u001b[0m\u001b[0;34m\u001b[0m\u001b[0m\n\u001b[1;32m    593\u001b[0m               \u001b[0mnum_outputs\u001b[0m\u001b[0;34m=\u001b[0m\u001b[0mself\u001b[0m\u001b[0;34m.\u001b[0m\u001b[0m_num_outputs\u001b[0m\u001b[0;34m,\u001b[0m\u001b[0;34m\u001b[0m\u001b[0;34m\u001b[0m\u001b[0m\n",
      "\u001b[0;32m~/miniconda3/envs/myconda/lib/python3.8/site-packages/tensorflow/python/eager/execute.py\u001b[0m in \u001b[0;36mquick_execute\u001b[0;34m(op_name, num_outputs, inputs, attrs, ctx, name)\u001b[0m\n\u001b[1;32m     57\u001b[0m   \u001b[0;32mtry\u001b[0m\u001b[0;34m:\u001b[0m\u001b[0;34m\u001b[0m\u001b[0;34m\u001b[0m\u001b[0m\n\u001b[1;32m     58\u001b[0m     \u001b[0mctx\u001b[0m\u001b[0;34m.\u001b[0m\u001b[0mensure_initialized\u001b[0m\u001b[0;34m(\u001b[0m\u001b[0;34m)\u001b[0m\u001b[0;34m\u001b[0m\u001b[0;34m\u001b[0m\u001b[0m\n\u001b[0;32m---> 59\u001b[0;31m     tensors = pywrap_tfe.TFE_Py_Execute(ctx._handle, device_name, op_name,\n\u001b[0m\u001b[1;32m     60\u001b[0m                                         inputs, attrs, num_outputs)\n\u001b[1;32m     61\u001b[0m   \u001b[0;32mexcept\u001b[0m \u001b[0mcore\u001b[0m\u001b[0;34m.\u001b[0m\u001b[0m_NotOkStatusException\u001b[0m \u001b[0;32mas\u001b[0m \u001b[0me\u001b[0m\u001b[0;34m:\u001b[0m\u001b[0;34m\u001b[0m\u001b[0;34m\u001b[0m\u001b[0m\n",
      "\u001b[0;31mKeyboardInterrupt\u001b[0m: "
     ]
    }
   ],
   "source": [
    "### train\n",
    "time_model = time.time() # 记录训练开始时间\n",
    "print(1)\n",
    "history_fit = model.fit(train_generator,                # 增强的数据集\n",
    "                        epochs=50,                      # 迭代总轮数，这里设置为50次，你可以在实验是增加epoch次数，提升准确率\n",
    "                        steps_per_epoch=(3886//batchsize),       # generator 产生的总步数（批次样本）\n",
    "                        validation_data=val_generator,  # 验证数据的生成器\n",
    "                        validation_steps=(1664//batchsize)         # 在停止前 generator 生成的总步数（样本批数）\n",
    "                        )\n",
    "\n",
    "# model.summary()\n",
    "\n",
    "########################################################################\n",
    "time_end = time.time()\n",
    "minute = (time_end - time_model) // 60\n",
    "second = (time_end - time_model) % 60\n",
    "print('\\nModel Time cost', minute, 'min ', second, ' sec')"
   ]
  },
  {
   "cell_type": "code",
   "execution_count": null,
   "id": "d71312fd-7493-45be-86fa-f5080fbf5f41",
   "metadata": {},
   "outputs": [],
   "source": [
    "def plot_roc(name, labels, predictions, **kwargs):\n",
    "    fp, tp, _ = sklearn.metrics.roc_curve(labels, predictions)\n",
    "\n",
    "    plt.plot(100*fp, 100*tp, label=name, linewidth=2, **kwargs)\n",
    "    plt.xlabel('False positives [%]')\n",
    "    plt.ylabel('True positives [%]')\n",
    "    plt.xlim([-0.5,20])\n",
    "    plt.ylim([80,100.5])\n",
    "    plt.grid(True)\n",
    "    ax = plt.gca()\n",
    "    ax.set_aspect('equal')\n",
    "\n",
    "train_predictions = model.predict(train_generator, batch_size= batchsize)\n",
    "test_predictions = model.predict(val_generator, batch_size= batchsize)\n",
    "model.predict(train_generator, batch_size= batchsize)\n",
    "plot_roc(\"Train Baseline\", train_labels, train_predictions, color=colors[0])\n",
    "plot_roc(\"Test Baseline\", test_labels, test_predictions, color=colors[0], linestyle='--')\n",
    "plt.legend(loc='lower right')\n",
    "\n",
    "type(train_predictions)"
   ]
  },
  {
   "cell_type": "code",
   "execution_count": 13,
   "id": "88e99042-e19a-42d4-a247-087468ff637b",
   "metadata": {},
   "outputs": [
    {
     "ename": "KeyError",
     "evalue": "'auc'",
     "output_type": "error",
     "traceback": [
      "\u001b[0;31m---------------------------------------------------------------------------\u001b[0m",
      "\u001b[0;31mKeyError\u001b[0m                                  Traceback (most recent call last)",
      "\u001b[0;32m/tmp/ipykernel_96/4201976988.py\u001b[0m in \u001b[0;36m<module>\u001b[0;34m\u001b[0m\n\u001b[1;32m     19\u001b[0m \u001b[0;34m\u001b[0m\u001b[0m\n\u001b[1;32m     20\u001b[0m         \u001b[0mplt\u001b[0m\u001b[0;34m.\u001b[0m\u001b[0mlegend\u001b[0m\u001b[0;34m(\u001b[0m\u001b[0;34m)\u001b[0m\u001b[0;34m\u001b[0m\u001b[0;34m\u001b[0m\u001b[0m\n\u001b[0;32m---> 21\u001b[0;31m \u001b[0mplot_metrics\u001b[0m\u001b[0;34m(\u001b[0m\u001b[0mhistory_fit\u001b[0m\u001b[0;34m)\u001b[0m\u001b[0;34m\u001b[0m\u001b[0;34m\u001b[0m\u001b[0m\n\u001b[0m",
      "\u001b[0;32m/tmp/ipykernel_96/4201976988.py\u001b[0m in \u001b[0;36mplot_metrics\u001b[0;34m(history)\u001b[0m\n\u001b[1;32m      6\u001b[0m         \u001b[0mname\u001b[0m \u001b[0;34m=\u001b[0m \u001b[0mmetric\u001b[0m\u001b[0;34m\u001b[0m\u001b[0;34m\u001b[0m\u001b[0m\n\u001b[1;32m      7\u001b[0m         \u001b[0mplt\u001b[0m\u001b[0;34m.\u001b[0m\u001b[0msubplot\u001b[0m\u001b[0;34m(\u001b[0m\u001b[0;36m2\u001b[0m\u001b[0;34m,\u001b[0m\u001b[0;36m2\u001b[0m\u001b[0;34m,\u001b[0m\u001b[0mn\u001b[0m\u001b[0;34m+\u001b[0m\u001b[0;36m1\u001b[0m\u001b[0;34m)\u001b[0m\u001b[0;34m\u001b[0m\u001b[0;34m\u001b[0m\u001b[0m\n\u001b[0;32m----> 8\u001b[0;31m         \u001b[0mplt\u001b[0m\u001b[0;34m.\u001b[0m\u001b[0mplot\u001b[0m\u001b[0;34m(\u001b[0m\u001b[0mhistory\u001b[0m\u001b[0;34m.\u001b[0m\u001b[0mepoch\u001b[0m\u001b[0;34m,\u001b[0m  \u001b[0mhistory\u001b[0m\u001b[0;34m.\u001b[0m\u001b[0mhistory\u001b[0m\u001b[0;34m[\u001b[0m\u001b[0mmetric\u001b[0m\u001b[0;34m]\u001b[0m\u001b[0;34m,\u001b[0m \u001b[0mlabel\u001b[0m\u001b[0;34m=\u001b[0m\u001b[0;34m'Train'\u001b[0m\u001b[0;34m)\u001b[0m\u001b[0;34m\u001b[0m\u001b[0;34m\u001b[0m\u001b[0m\n\u001b[0m\u001b[1;32m      9\u001b[0m         plt.plot(history.epoch, history.history['val_'+metric],\n\u001b[1;32m     10\u001b[0m                   linestyle=\"--\", label='Val')\n",
      "\u001b[0;31mKeyError\u001b[0m: 'auc'"
     ]
    },
    {
     "data": {
      "image/png": "[encoded data removed]",
      "text/plain": [
       "<Figure size 432x288 with 2 Axes>"
      ]
     },
     "metadata": {
      "needs_background": "light"
     },
     "output_type": "display_data"
    }
   ],
   "source": [
    "import sklearn\n",
    "\n",
    "def plot_metrics(history):\n",
    "    metrics =  ['loss', 'auc', 'precision', 'recall']\n",
    "    for n, metric in enumerate(metrics):\n",
    "        name = metric\n",
    "        plt.subplot(2,2,n+1)\n",
    "        plt.plot(history.epoch,  history.history[metric], label='Train')\n",
    "        plt.plot(history.epoch, history.history['val_'+metric],\n",
    "                  linestyle=\"--\", label='Val')\n",
    "        plt.xlabel('Epoch')\n",
    "        plt.ylabel(name)\n",
    "        if metric == 'loss':\n",
    "            plt.ylim([0, plt.ylim()[1]])\n",
    "        elif metric == 'auc':\n",
    "            plt.ylim([0.8,1])\n",
    "        else:\n",
    "            plt.ylim([0,1])\n",
    "\n",
    "        plt.legend()\n",
    "plot_metrics(history_fit)\n"
   ]
  },
  {
   "cell_type": "code",
   "execution_count": 133,
   "id": "9aaa3801-e041-472b-a97c-c1e8e958fc8e",
   "metadata": {},
   "outputs": [],
   "source": [
    "# 将训练过程的中间信息保留位json文件\n",
    "with open(root_path + \"/Model/history_fit.json\", \"w\") as json_file:\n",
    "    json_file.write(str(history_fit))"
   ]
  },
  {
   "cell_type": "code",
   "execution_count": 134,
   "id": "0685b860-b9b3-46a3-9ba8-b4c3ebcc3e17",
   "metadata": {},
   "outputs": [],
   "source": [
    "# 查看训练过程的准确率变化情况\n",
    "acc = history_fit.history['accuracy']\n",
    "\n",
    "# 查看验证过程的准确率变化情况\n",
    "val_acc = history_fit.history['val_accuracy']\n",
    "\n",
    "# 查看训练过程的损失值变化情况\n",
    "loss = history_fit.history['loss']\n",
    "\n",
    "# 查看验证过程的损失值变化情况\n",
    "val_loss = history_fit.history['val_loss']\n",
    "\n"
   ]
  },
  {
   "cell_type": "code",
   "execution_count": 152,
   "id": "7f4c66d1-420c-4590-803a-ff6f8c72e7a3",
   "metadata": {},
   "outputs": [],
   "source": [
    "acc = np.array(acc)\n",
    "np.save('acc.npy',acc)\n",
    "val_acc = np.array(val_acc)\n",
    "np.save('val_acc.npy',val_acc)\n",
    "loss = np.array(loss)\n",
    "np.save('loss.npy',loss)\n",
    "val_loss = np.array(val_loss)\n",
    "np.save('val_loss.npy',val_loss)"
   ]
  },
  {
   "cell_type": "code",
   "execution_count": 135,
   "id": "b7d199d4-dcc8-40da-bbf8-56fd50524bb7",
   "metadata": {},
   "outputs": [
    {
     "data": {
      "image/png": "[encoded data removed]",
      "text/plain": [
       "<Figure size 432x288 with 1 Axes>"
      ]
     },
     "metadata": {
      "needs_background": "light"
     },
     "output_type": "display_data"
    },
    {
     "data": {
      "image/png": "[encoded data removed]",
      "text/plain": [
       "<Figure size 432x288 with 1 Axes>"
      ]
     },
     "metadata": {
      "needs_background": "light"
     },
     "output_type": "display_data"
    }
   ],
   "source": [
    "# 可视化训练集和验证集准确率的变化情况\n",
    "epochs = range(1, len(acc) + 1) \n",
    "plt.figure(\"acc\")\n",
    "plt.plot(epochs, acc, 'r-', label='Training acc')\n",
    "plt.plot(epochs, val_acc, 'b', label='validation acc')\n",
    "plt.title('The comparision of train_acc and val_acc')\n",
    "plt.legend()\n",
    "plt.show()\n",
    "\n",
    "# 可视化训练集和验证集损失值的变化情况\n",
    "plt.figure(\"loss\")\n",
    "plt.plot(epochs, loss, 'r-', label='Training loss')\n",
    "plt.plot(epochs, val_loss, 'b', label='validation loss')\n",
    "plt.title('The comparision of train_loss and val_loss')\n",
    "plt.legend()\n",
    "plt.show()"
   ]
  },
  {
   "cell_type": "code",
   "execution_count": 138,
   "id": "37de806d-65a2-4163-812c-0a5f8791f9a0",
   "metadata": {},
   "outputs": [],
   "source": [
    "model_json=model.to_json()\n",
    "with open(root_path+'/Model/model_json.json', \"w\") as json_file:\n",
    "    json_file.write(model_json)\n",
    "model.save_weights(root_path+'/Model/model_weight.h5')"
   ]
  },
  {
   "cell_type": "code",
   "execution_count": 139,
   "id": "216cb7ff-c638-4e0a-a153-f4009ee04a00",
   "metadata": {},
   "outputs": [
    {
     "name": "stdout",
     "output_type": "stream",
     "text": [
      "model saved\n"
     ]
    }
   ],
   "source": [
    "model.save(root_path+'/Model/model.h5')\n",
    "print('model saved')"
   ]
  },
  {
   "cell_type": "code",
   "execution_count": 145,
   "id": "f7cc4b96-4633-4395-9e73-94011ef1fe34",
   "metadata": {},
   "outputs": [
    {
     "ename": "FileNotFoundError",
     "evalue": "[Errno 2] No such file or directory: 'dataset/normal/00000004.png'",
     "output_type": "error",
     "traceback": [
      "\u001b[0;31m---------------------------------------------------------------------------\u001b[0m",
      "\u001b[0;31mFileNotFoundError\u001b[0m                         Traceback (most recent call last)",
      "\u001b[0;32m/tmp/ipykernel_72/1531385408.py\u001b[0m in \u001b[0;36m<module>\u001b[0;34m\u001b[0m\n\u001b[1;32m     22\u001b[0m \u001b[0;34m\u001b[0m\u001b[0m\n\u001b[1;32m     23\u001b[0m \u001b[0mimg_path\u001b[0m \u001b[0;34m=\u001b[0m \u001b[0;34m\"dataset/normal/00000004.png\"\u001b[0m                 \u001b[0;31m# 测试数据路径\u001b[0m\u001b[0;34m\u001b[0m\u001b[0;34m\u001b[0m\u001b[0m\n\u001b[0;32m---> 24\u001b[0;31m \u001b[0mimg\u001b[0m \u001b[0;34m=\u001b[0m \u001b[0mimage\u001b[0m\u001b[0;34m.\u001b[0m\u001b[0mload_img\u001b[0m\u001b[0;34m(\u001b[0m\u001b[0mimg_path\u001b[0m\u001b[0;34m,\u001b[0m \u001b[0mtarget_size\u001b[0m\u001b[0;34m=\u001b[0m\u001b[0;34m(\u001b[0m\u001b[0;36m1000\u001b[0m\u001b[0;34m,\u001b[0m \u001b[0;36m400\u001b[0m\u001b[0;34m)\u001b[0m\u001b[0;34m)\u001b[0m \u001b[0;31m# 加载图片并将其转换为300x300的尺寸\u001b[0m\u001b[0;34m\u001b[0m\u001b[0;34m\u001b[0m\u001b[0m\n\u001b[0m\u001b[1;32m     25\u001b[0m \u001b[0mimg\u001b[0m \u001b[0;34m=\u001b[0m \u001b[0mimage\u001b[0m\u001b[0;34m.\u001b[0m\u001b[0mimg_to_array\u001b[0m\u001b[0;34m(\u001b[0m\u001b[0mimg\u001b[0m\u001b[0;34m)\u001b[0m                          \u001b[0;31m# 将图片数据转换为array形式\u001b[0m\u001b[0;34m\u001b[0m\u001b[0;34m\u001b[0m\u001b[0m\n\u001b[1;32m     26\u001b[0m \u001b[0mimg\u001b[0m \u001b[0;34m=\u001b[0m \u001b[0mnp\u001b[0m\u001b[0;34m.\u001b[0m\u001b[0mexpand_dims\u001b[0m\u001b[0;34m(\u001b[0m\u001b[0mimg\u001b[0m\u001b[0;34m,\u001b[0m \u001b[0maxis\u001b[0m\u001b[0;34m=\u001b[0m\u001b[0;36m0\u001b[0m\u001b[0;34m)\u001b[0m                      \u001b[0;31m# 添加一个维度，维度为0\u001b[0m\u001b[0;34m\u001b[0m\u001b[0;34m\u001b[0m\u001b[0m\n",
      "\u001b[0;32m~/miniconda3/envs/myconda/lib/python3.8/site-packages/keras/preprocessing/image.py\u001b[0m in \u001b[0;36mload_img\u001b[0;34m(path, grayscale, color_mode, target_size, interpolation)\u001b[0m\n\u001b[1;32m    311\u001b[0m       \u001b[0mValueError\u001b[0m\u001b[0;34m:\u001b[0m \u001b[0;32mif\u001b[0m \u001b[0minterpolation\u001b[0m \u001b[0mmethod\u001b[0m \u001b[0;32mis\u001b[0m \u001b[0;32mnot\u001b[0m \u001b[0msupported\u001b[0m\u001b[0;34m.\u001b[0m\u001b[0;34m\u001b[0m\u001b[0;34m\u001b[0m\u001b[0m\n\u001b[1;32m    312\u001b[0m   \"\"\"\n\u001b[0;32m--> 313\u001b[0;31m   return image.load_img(path, grayscale=grayscale, color_mode=color_mode,\n\u001b[0m\u001b[1;32m    314\u001b[0m                         target_size=target_size, interpolation=interpolation)\n\u001b[1;32m    315\u001b[0m \u001b[0;34m\u001b[0m\u001b[0m\n",
      "\u001b[0;32m~/miniconda3/envs/myconda/lib/python3.8/site-packages/keras_preprocessing/image/utils.py\u001b[0m in \u001b[0;36mload_img\u001b[0;34m(path, grayscale, color_mode, target_size, interpolation)\u001b[0m\n\u001b[1;32m    111\u001b[0m         raise ImportError('Could not import PIL.Image. '\n\u001b[1;32m    112\u001b[0m                           'The use of `load_img` requires PIL.')\n\u001b[0;32m--> 113\u001b[0;31m     \u001b[0;32mwith\u001b[0m \u001b[0mopen\u001b[0m\u001b[0;34m(\u001b[0m\u001b[0mpath\u001b[0m\u001b[0;34m,\u001b[0m \u001b[0;34m'rb'\u001b[0m\u001b[0;34m)\u001b[0m \u001b[0;32mas\u001b[0m \u001b[0mf\u001b[0m\u001b[0;34m:\u001b[0m\u001b[0;34m\u001b[0m\u001b[0;34m\u001b[0m\u001b[0m\n\u001b[0m\u001b[1;32m    114\u001b[0m         \u001b[0mimg\u001b[0m \u001b[0;34m=\u001b[0m \u001b[0mpil_image\u001b[0m\u001b[0;34m.\u001b[0m\u001b[0mopen\u001b[0m\u001b[0;34m(\u001b[0m\u001b[0mio\u001b[0m\u001b[0;34m.\u001b[0m\u001b[0mBytesIO\u001b[0m\u001b[0;34m(\u001b[0m\u001b[0mf\u001b[0m\u001b[0;34m.\u001b[0m\u001b[0mread\u001b[0m\u001b[0;34m(\u001b[0m\u001b[0;34m)\u001b[0m\u001b[0;34m)\u001b[0m\u001b[0;34m)\u001b[0m\u001b[0;34m\u001b[0m\u001b[0;34m\u001b[0m\u001b[0m\n\u001b[1;32m    115\u001b[0m         \u001b[0;32mif\u001b[0m \u001b[0mcolor_mode\u001b[0m \u001b[0;34m==\u001b[0m \u001b[0;34m'grayscale'\u001b[0m\u001b[0;34m:\u001b[0m\u001b[0;34m\u001b[0m\u001b[0;34m\u001b[0m\u001b[0m\n",
      "\u001b[0;31mFileNotFoundError\u001b[0m: [Errno 2] No such file or directory: 'dataset/normal/00000004.png'"
     ]
    }
   ],
   "source": [
    "json_file = open(root_path + '/Model/model_json.json')      # 加载模型结构文件\n",
    "loaded_model_json = json_file.read()\n",
    "json_file.close()\n",
    "model = model_from_json(loaded_model_json)                  # 结构文件转化为模型\n",
    "# 加载权重\n",
    "model.load_weights(root_path + '/Model/model_weight.h5')    # h5文件保存模型的权重数据\n",
    "\n",
    "img_path = \"00000000.png\"                 # 测试数据路径\n",
    "img = image.load_img(img_path, target_size=(1000, 400)) # 加载图片并将其转换为300x300的尺寸\n",
    "img = image.img_to_array(img)                          # 将图片数据转换为array形式\n",
    "img = np.expand_dims(img, axis=0)                      # 添加一个维度，维度为0\n",
    "result = model.predict(img)                            # 图片预测\n",
    "pd1 = result\n",
    "\n",
    "img_path = \"00000000_1651577091.png\"                 # 测试数据路径\n",
    "img = image.load_img(img_path, target_size=(1000, 400)) # 加载图片并将其转换为300x300的尺寸\n",
    "img = image.img_to_array(img)                          # 将图片数据转换为array形式\n",
    "img = np.expand_dims(img, axis=0)                      # 添加一个维度，维度为0\n",
    "result = model.predict(img)                            # 图片预测\n",
    "pd2 = result\n",
    "\n",
    "\n",
    "img_path = \"mnt/dataset/normal/00000004.png\"                 # 测试数据路径\n",
    "img = image.load_img(img_path, target_size=(1000, 400)) # 加载图片并将其转换为300x300的尺寸\n",
    "img = image.img_to_array(img)                          # 将图片数据转换为array形式\n",
    "img = np.expand_dims(img, axis=0)                      # 添加一个维度，维度为0\n",
    "result = model.predict(img)                            # 图片预测\n",
    "pd3 = result\n",
    "\n",
    "print(pd1,'/n',pd2)\n",
    "print(pd3)\n",
    "\n"
   ]
  },
  {
   "cell_type": "code",
   "execution_count": null,
   "id": "1b6ff5b8-a59b-4a86-8f9f-6a0ca5119524",
   "metadata": {},
   "outputs": [],
   "source": [
    "def generate_result(result):\n",
    "    for i in range(2):\n",
    "        if(result[0][i] == 1):\n",
    "            return labels[i]\n",
    "\n",
    "print(generate_result(result))"
   ]
  }
 ],
 "metadata": {
  "kernelspec": {
   "display_name": "myconda",
   "language": "python",
   "name": "myconda"
  },
  "language_info": {
   "codemirror_mode": {
    "name": "ipython",
    "version": 3
   },
   "file_extension": ".py",
   "mimetype": "text/x-python",
   "name": "python",
   "nbconvert_exporter": "python",
   "pygments_lexer": "ipython3",
   "version": "3.8.12"
  }
 },
 "nbformat": 4,
 "nbformat_minor": 5
}
